{
 "cells": [
  {
   "cell_type": "markdown",
   "id": "db303dde",
   "metadata": {},
   "source": [
    "<h1> Configuration </h1>"
   ]
  },
  {
   "cell_type": "code",
   "execution_count": 9,
   "id": "2af0b478",
   "metadata": {},
   "outputs": [],
   "source": [
    "import os\n",
    "import math\n",
    "import string\n",
    "import pickle\n",
    "import numpy as np\n",
    "import scipy.io as sio\n",
    "import torch\n",
    "import torch.nn as nn\n",
    "import torch.optim as optim\n",
    "from torch.utils.data import Dataset, DataLoader\n",
    "import wget\n",
    "import zipfile\n",
    "import json5  \n",
    "from safetensors.torch import load_file, save_file \n",
    "from typing import Tuple, List, Dict\n",
    "import pandas as pd\n"
   ]
  },
  {
   "cell_type": "code",
   "execution_count": 8,
   "id": "737e429d",
   "metadata": {},
   "outputs": [],
   "source": [
    "class TrainingConfig:\n",
    "    def __init__(self, config_path: str = 'config.json5'):\n",
    "        print(f\"Loading configuration from: {config_path}\")\n",
    "        with open(config_path, 'r') as f:\n",
    "            config_data = json5.load(f)\n",
    "\n",
    "        for key, value in config_data.items():\n",
    "            setattr(self, key, value)\n",
    "        \n",
    "        self.__post_init__()\n",
    "\n",
    "    def __post_init__(self):\n",
    "        \"\"\"Initializes computed fields and directories after loading.\"\"\"\n",
    "        if isinstance(self.antenna_indices, int):\n",
    "            self.antenna_indices = [self.antenna_indices]\n",
    "        \n",
    "        if not self.antenna_indices:\n",
    "            self.antenna_indices = list(range(4))\n",
    "            print(\"WARNING: 'antenna_indices' not specified, using all 4 antennas.\")\n",
    "\n",
    "        self.input_channels = len(self.antenna_indices)\n",
    "        \n",
    "        if self.input_channels == 1:\n",
    "            run_name_prefix = f'single_antenna_{self.antenna_indices[0]}'\n",
    "        elif self.input_channels == 4:\n",
    "            run_name_prefix = 'all_antennas'\n",
    "        else:\n",
    "            antennas_str = '_'.join(map(str, sorted(self.antenna_indices)))\n",
    "            run_name_prefix = f'custom_antennas_{antennas_str}'\n",
    "            \n",
    "        self.current_run_name = f'{run_name_prefix}'\n",
    "\n",
    "        self.current_checkpoint_dir = os.path.join(self.checkpoint_dir_base, self.current_run_name)\n",
    "        self.current_log_dir = os.path.join(self.log_dir_base, self.current_run_name)\n",
    "        self.dataset_path = os.path.join(self.base_data_dir, self.dataset_name, \"dataset\")\n",
    "\n",
    "        os.makedirs(self.current_checkpoint_dir, exist_ok=True)\n",
    "        os.makedirs(self.current_log_dir, exist_ok=True)\n",
    "        os.makedirs(self.dataset_path, exist_ok=True)\n",
    "\n",
    "        final_decoder_out_channels = self.input_channels\n",
    "        self.decoder_conv_transpose_configs.append(\n",
    "            {\"out_channels\": final_decoder_out_channels, \"kernel_size\": (1, 1), \"stride\": (1, 1), \"padding\": 0, \"activation\": \"Sigmoid\"}\n",
    "        )\n",
    "\n",
    "    @staticmethod\n",
    "    def get_activation(activation_name: str) -> nn.Module:\n",
    "        \n",
    "        if activation_name is None:\n",
    "            return nn.Identity()\n",
    "\n",
    "        try:\n",
    "            activation_class = getattr(nn, activation_name)\n",
    "            return activation_class()\n",
    "        except AttributeError:\n",
    "            raise ValueError(f\"Activation function not found in torch: '{activation_name}'\")\n",
    "\n",
    "    def __repr__(self):\n",
    "        return f\"TrainingConfig(run_name='{self.current_run_name}', device='{self.device}')\"\n"
   ]
  }
 ],
 "metadata": {
  "kernelspec": {
   "display_name": "Python 3",
   "language": "python",
   "name": "python3"
  },
  "language_info": {
   "codemirror_mode": {
    "name": "ipython",
    "version": 3
   },
   "file_extension": ".py",
   "mimetype": "text/x-python",
   "name": "python",
   "nbconvert_exporter": "python",
   "pygments_lexer": "ipython3",
   "version": "3.11.3"
  }
 },
 "nbformat": 4,
 "nbformat_minor": 5
}
